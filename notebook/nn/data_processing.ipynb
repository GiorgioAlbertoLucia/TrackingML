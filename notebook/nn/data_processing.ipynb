{
 "cells": [
  {
   "cell_type": "markdown",
   "metadata": {},
   "source": [
    "## Data Processing\n",
    "\n",
    "The basic data processing is shown here. \n",
    "A train and test set are created from the first two events. \n",
    "As a first approach, events are not divided between train and test set."
   ]
  },
  {
   "cell_type": "code",
   "execution_count": 1,
   "metadata": {},
   "outputs": [],
   "source": [
    "import os\n",
    "import copy\n",
    "import matplotlib.pyplot as plt\n",
    "\n",
    "import torch\n",
    "\n",
    "import sys\n",
    "sys.path.append('/Users/glucia/Projects/DeepLearning/TrackingML')\n",
    "from core.data_handler import DataHandler\n",
    "from utils.terminal_colors import TerminalColors as tc\n"
   ]
  },
  {
   "cell_type": "code",
   "execution_count": null,
   "metadata": {},
   "outputs": [],
   "source": []
  },
  {
   "cell_type": "code",
   "execution_count": 2,
   "metadata": {},
   "outputs": [
    {
     "name": "stdout",
     "output_type": "stream",
     "text": [
      "\u001b[1mNumber of events: 1770\u001b[0m\n"
     ]
    }
   ],
   "source": [
    "input_dir = '../../data/train_1'\n",
    "event_numbers = []\n",
    "for filename in os.listdir(input_dir):\n",
    "    if filename.endswith(\"-cells.csv\"):\n",
    "        event_number = filename.split(\"-\")[0][5:]\n",
    "        event_numbers.append(event_number)\n",
    "event_numbers.sort()\n",
    "print(tc.BOLD + f'Number of events: {len(event_numbers)}' + tc.RESET)\n",
    "\n",
    "cell_csvs = [input_dir+f'/event{event_number}-cells.csv' for event_number in event_numbers]\n",
    "hits_csvs = [input_dir+f'/event{event_number}-hits.csv' for event_number in event_numbers]\n",
    "truth_csvs = [input_dir+f'/event{event_number}-truth.csv' for event_number in event_numbers]\n",
    "\n",
    "data_handler = DataHandler(event_numbers[10:15], cell_csvs[10:15], hits_csvs[10:15], truth_csvs[10:15])"
   ]
  },
  {
   "cell_type": "code",
   "execution_count": 3,
   "metadata": {},
   "outputs": [
    {
     "data": {
      "text/plain": [
       "0           False\n",
       "1            True\n",
       "2            True\n",
       "3            True\n",
       "4            True\n",
       "            ...  \n",
       "74561856     True\n",
       "74561857    False\n",
       "74561858     True\n",
       "74561859    False\n",
       "74561860    False\n",
       "Name: hit_id, Length: 74561861, dtype: bool"
      ]
     },
     "execution_count": 3,
     "metadata": {},
     "output_type": "execute_result"
    }
   ],
   "source": [
    "data_handler.dataset['event_id'].unique()\n",
    "data_handler.dataset['hit_id'].duplicated()"
   ]
  },
  {
   "cell_type": "markdown",
   "metadata": {},
   "source": [
    "NOTE: to each hit_id correspond different channels (i.e. different activated pixels in the detector).\n",
    "\n",
    "Let's use event 1000 for the train set and event 1001 for the test set.\n",
    "Let's do the feature scaling step and make sure that everything is working as intended"
   ]
  },
  {
   "cell_type": "code",
   "execution_count": 4,
   "metadata": {},
   "outputs": [],
   "source": [
    "train_set = copy.deepcopy(data_handler)\n",
    "#train_set.dataset.query('event_id==1000', inplace=True)\n",
    "\n",
    "test_set = copy.deepcopy(data_handler)\n",
    "test_set.dataset.query('event_id==1001', inplace=True)\n",
    "\n",
    "mean = train_set.mean()\n",
    "std = train_set.std()\n",
    "\n",
    "train_set.feature_scaling(mean, std)\n",
    "test_set.feature_scaling(mean, std)"
   ]
  },
  {
   "cell_type": "code",
   "execution_count": 5,
   "metadata": {},
   "outputs": [
    {
     "data": {
      "image/png": "[encoded data removed]",
      "text/plain": [
       "<Figure size 640x480 with 1 Axes>"
      ]
     },
     "metadata": {},
     "output_type": "display_data"
    }
   ],
   "source": [
    "# plot x variable as a histogram for both train_set and test_set\n",
    "\n",
    "plt.hist(train_set.dataset['x'], bins=100, alpha=0.5, label='train_set')\n",
    "plt.hist(test_set.dataset['x'], bins=100, alpha=0.5, label='test_set')\n",
    "plt.legend(loc='upper right')\n",
    "plt.show()"
   ]
  },
  {
   "cell_type": "code",
   "execution_count": null,
   "metadata": {},
   "outputs": [],
   "source": []
  }
 ],
 "metadata": {
  "kernelspec": {
   "display_name": "pyROOT",
   "language": "python",
   "name": "python3"
  },
  "language_info": {
   "codemirror_mode": {
    "name": "ipython",
    "version": 3
   },
   "file_extension": ".py",
   "mimetype": "text/x-python",
   "name": "python",
   "nbconvert_exporter": "python",
   "pygments_lexer": "ipython3",
   "version": "3.9.6"
  }
 },
 "nbformat": 4,
 "nbformat_minor": 2
}
